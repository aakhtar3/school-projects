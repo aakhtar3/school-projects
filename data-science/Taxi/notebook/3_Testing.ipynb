{
 "cells": [
  {
   "cell_type": "code",
   "execution_count": 2,
   "metadata": {
    "collapsed": true
   },
   "outputs": [],
   "source": [
    "import numpy as np\n",
    "import pandas as pd\n",
    "\n",
    "import sklearn\n",
    "from sklearn.cross_validation import train_test_split, cross_val_score, KFold\n",
    "import sklearn.metrics as metrics\n",
    "from scipy.stats import sem\n",
    "\n",
    "# Classifiers/Regressors\n",
    "from sklearn.ensemble import RandomForestClassifier\n",
    "from sklearn.tree import DecisionTreeClassifier\n",
    "from sklearn.naive_bayes import GaussianNB\n",
    "from sklearn.neighbors import KNeighborsClassifier, KNeighborsRegressor\n",
    "from sklearn.linear_model import LinearRegression"
   ]
  },
  {
   "cell_type": "code",
   "execution_count": 3,
   "metadata": {
    "collapsed": false
   },
   "outputs": [
    {
     "data": {
      "text/html": [
       "<div>\n",
       "<table border=\"1\" class=\"dataframe\">\n",
       "  <thead>\n",
       "    <tr style=\"text-align: right;\">\n",
       "      <th></th>\n",
       "      <th>passenger_count</th>\n",
       "      <th>trip_distance</th>\n",
       "      <th>fare_amount</th>\n",
       "      <th>trip_time</th>\n",
       "      <th>day_of_week</th>\n",
       "      <th>pickup_hour</th>\n",
       "      <th>month</th>\n",
       "      <th>year</th>\n",
       "      <th>season</th>\n",
       "      <th>tip_percentage</th>\n",
       "      <th>PRCP</th>\n",
       "      <th>SNWD</th>\n",
       "      <th>SNOW</th>\n",
       "      <th>TMAX</th>\n",
       "      <th>TMIN</th>\n",
       "      <th>pickup_area</th>\n",
       "      <th>dropoff_area</th>\n",
       "    </tr>\n",
       "  </thead>\n",
       "  <tbody>\n",
       "    <tr>\n",
       "      <th>0</th>\n",
       "      <td>1</td>\n",
       "      <td>6.11</td>\n",
       "      <td>18.0</td>\n",
       "      <td>12</td>\n",
       "      <td>2</td>\n",
       "      <td>0</td>\n",
       "      <td>7</td>\n",
       "      <td>0</td>\n",
       "      <td>2</td>\n",
       "      <td>0</td>\n",
       "      <td>1</td>\n",
       "      <td>0</td>\n",
       "      <td>0</td>\n",
       "      <td>82</td>\n",
       "      <td>69</td>\n",
       "      <td>848420</td>\n",
       "      <td>882916</td>\n",
       "    </tr>\n",
       "    <tr>\n",
       "      <th>1</th>\n",
       "      <td>1</td>\n",
       "      <td>0.96</td>\n",
       "      <td>5.0</td>\n",
       "      <td>3</td>\n",
       "      <td>2</td>\n",
       "      <td>0</td>\n",
       "      <td>7</td>\n",
       "      <td>0</td>\n",
       "      <td>2</td>\n",
       "      <td>0</td>\n",
       "      <td>1</td>\n",
       "      <td>0</td>\n",
       "      <td>0</td>\n",
       "      <td>82</td>\n",
       "      <td>69</td>\n",
       "      <td>693643</td>\n",
       "      <td>688712</td>\n",
       "    </tr>\n",
       "    <tr>\n",
       "      <th>2</th>\n",
       "      <td>1</td>\n",
       "      <td>4.17</td>\n",
       "      <td>15.0</td>\n",
       "      <td>15</td>\n",
       "      <td>2</td>\n",
       "      <td>0</td>\n",
       "      <td>7</td>\n",
       "      <td>0</td>\n",
       "      <td>2</td>\n",
       "      <td>5</td>\n",
       "      <td>1</td>\n",
       "      <td>0</td>\n",
       "      <td>0</td>\n",
       "      <td>82</td>\n",
       "      <td>69</td>\n",
       "      <td>637025</td>\n",
       "      <td>585371</td>\n",
       "    </tr>\n",
       "    <tr>\n",
       "      <th>3</th>\n",
       "      <td>2</td>\n",
       "      <td>1.45</td>\n",
       "      <td>7.0</td>\n",
       "      <td>6</td>\n",
       "      <td>2</td>\n",
       "      <td>0</td>\n",
       "      <td>7</td>\n",
       "      <td>0</td>\n",
       "      <td>2</td>\n",
       "      <td>3</td>\n",
       "      <td>1</td>\n",
       "      <td>0</td>\n",
       "      <td>0</td>\n",
       "      <td>82</td>\n",
       "      <td>69</td>\n",
       "      <td>860706</td>\n",
       "      <td>902497</td>\n",
       "    </tr>\n",
       "    <tr>\n",
       "      <th>4</th>\n",
       "      <td>1</td>\n",
       "      <td>0.55</td>\n",
       "      <td>5.0</td>\n",
       "      <td>5</td>\n",
       "      <td>2</td>\n",
       "      <td>0</td>\n",
       "      <td>7</td>\n",
       "      <td>0</td>\n",
       "      <td>2</td>\n",
       "      <td>6</td>\n",
       "      <td>1</td>\n",
       "      <td>0</td>\n",
       "      <td>0</td>\n",
       "      <td>82</td>\n",
       "      <td>69</td>\n",
       "      <td>868097</td>\n",
       "      <td>868097</td>\n",
       "    </tr>\n",
       "  </tbody>\n",
       "</table>\n",
       "</div>"
      ],
      "text/plain": [
       "   passenger_count  trip_distance  fare_amount  trip_time  day_of_week  \\\n",
       "0                1           6.11         18.0         12            2   \n",
       "1                1           0.96          5.0          3            2   \n",
       "2                1           4.17         15.0         15            2   \n",
       "3                2           1.45          7.0          6            2   \n",
       "4                1           0.55          5.0          5            2   \n",
       "\n",
       "   pickup_hour  month  year  season  tip_percentage  PRCP  SNWD  SNOW  TMAX  \\\n",
       "0            0      7     0       2               0     1     0     0    82   \n",
       "1            0      7     0       2               0     1     0     0    82   \n",
       "2            0      7     0       2               5     1     0     0    82   \n",
       "3            0      7     0       2               3     1     0     0    82   \n",
       "4            0      7     0       2               6     1     0     0    82   \n",
       "\n",
       "   TMIN  pickup_area  dropoff_area  \n",
       "0    69       848420        882916  \n",
       "1    69       693643        688712  \n",
       "2    69       637025        585371  \n",
       "3    69       860706        902497  \n",
       "4    69       868097        868097  "
      ]
     },
     "execution_count": 3,
     "metadata": {},
     "output_type": "execute_result"
    }
   ],
   "source": [
    "df = pd.read_csv('dataset/clean/cleaned_data3.csv', nrows=2000000)\n",
    "df.head()"
   ]
  },
  {
   "cell_type": "code",
   "execution_count": 4,
   "metadata": {
    "collapsed": false
   },
   "outputs": [
    {
     "data": {
      "text/plain": [
       "3    903047\n",
       "0    300004\n",
       "4    294245\n",
       "2    179600\n",
       "5    145261\n",
       "1    116592\n",
       "6     38306\n",
       "7     20341\n",
       "8      2604\n",
       "Name: tip_percentage, dtype: int64"
      ]
     },
     "execution_count": 4,
     "metadata": {},
     "output_type": "execute_result"
    }
   ],
   "source": [
    "df.tip_percentage.value_counts()"
   ]
  },
  {
   "cell_type": "code",
   "execution_count": 5,
   "metadata": {
    "collapsed": false
   },
   "outputs": [],
   "source": [
    "def change_tip_grouping(row):\n",
    "    # 0 is less than 20% and 1 is greater than 20%\n",
    "    return int(row.tip_percentage >= 4)\n",
    "\n",
    "df.tip_percentage = df.apply(change_tip_grouping, axis=1)"
   ]
  },
  {
   "cell_type": "code",
   "execution_count": 6,
   "metadata": {
    "collapsed": false
   },
   "outputs": [
    {
     "data": {
      "text/plain": [
       "0    1499243\n",
       "1     500757\n",
       "Name: tip_percentage, dtype: int64"
      ]
     },
     "execution_count": 6,
     "metadata": {},
     "output_type": "execute_result"
    }
   ],
   "source": [
    "df.tip_percentage.value_counts()"
   ]
  },
  {
   "cell_type": "code",
   "execution_count": 8,
   "metadata": {
    "collapsed": false
   },
   "outputs": [],
   "source": [
    "features = ['pickup_area', 'dropoff_area', \\\n",
    "            'passenger_count', 'trip_distance', 'fare_amount', 'trip_time', 'day_of_week', \\\n",
    "            'pickup_hour', 'month', 'season', 'PRCP', 'SNWD', 'SNOW', 'TMAX', 'TMIN']\n",
    "target = 'tip_percentage'\n",
    "\n",
    "x = df[features]\n",
    "y = df[target]\n",
    "x_train, x_test, y_train, y_test = train_test_split(x, y, random_state=0)"
   ]
  },
  {
   "cell_type": "code",
   "execution_count": 19,
   "metadata": {
    "collapsed": false
   },
   "outputs": [],
   "source": [
    "# Metrics\n",
    "\n",
    "# Train and gather reporting data for Classification\n",
    "def train_and_evaluate_classification(clf, X_train, X_test, y_train, y_test):\n",
    "    clf.fit(X_train, y_train)\n",
    "    y_pred = clf.predict(X_test) # Convert to np.array??? maybe thats the issue with accuracy score\n",
    "    \n",
    "    # print \"prediction:\", y_pred\n",
    "    # print \"truth_____:\", y_test\n",
    "    \n",
    "    print \"Accuracy on training set:\", clf.score(X_train, y_train)\n",
    "    print \"Accuracy on testing set_:\", clf.score(X_test, y_test)\n",
    "    \n",
    "    print \"Classification Report:\"\n",
    "    print metrics.classification_report(y_test, y_pred)\n",
    "    print \"Confusion Matrix:\"\n",
    "    print metrics.confusion_matrix(y_test, y_pred)\n",
    "    \n",
    "# Train and gather reporting data for Regression\n",
    "def train_and_evaluate_regression(clf, X_train, X_test, y_train, y_test):\n",
    "    clf.fit(X_train, y_train)\n",
    "    y_pred = clf.predict(X_test)\n",
    "    \n",
    "    # Explained variance score: 1 is perfect prediction\n",
    "    print 'Variance score: %.2f' % clf.score(X_test, y_test)\n",
    "    # The mean square error\n",
    "    print 'Residual sum of squares: %.2f' % np.mean((clf.predict(X_test) - y_test) ** 2)\n",
    "\n",
    "    # Mean Absolute Error\n",
    "    print 'Mean Absolute Error: %.2f' % metrics.mean_absolute_error(y_test, y_pred)\n",
    "    # Mean Squared Error\n",
    "    print 'Mean Squared Error: %.2f' % metrics.mean_squared_error(y_test, y_pred)\n",
    "    # Root Mean Squared Error\n",
    "    print 'Root Mean Squared Error: %.2f' % np.sqrt(metrics.mean_squared_error(y_test, y_pred))    \n",
    "\n",
    "# Perform 5 fold cross validation\n",
    "def evaluate_cross_validation(clf, X, y, K):\n",
    "    cv = KFold(len(y), K, shuffle=True, random_state=0)\n",
    "    scores = cross_val_score(clf, X, y, cv=cv)\n",
    "    \n",
    "    print \"5 cross validation\"\n",
    "    print scores\n",
    "    print (\"Mean score: {0:.3f} (+/-{1:.3f})\").format(np.mean(scores), sem(scores))\n",
    "    \n",
    "    \n",
    "# Perfrom analysis on the classifer\n",
    "def perform_classification_analysis(clf):    \n",
    "    train_and_evaluate_classification(clf, x_train, x_test, y_train, y_test)\n",
    "    evaluate_cross_validation(clf, x, y, 5)\n",
    "\n",
    "def perform_regression_analysis(clf):\n",
    "    train_and_evaluate_regression(clf, x_train, x_test, y_train, y_test)\n",
    "    evaluate_cross_validation(clf, x, y, 5)"
   ]
  },
  {
   "cell_type": "code",
   "execution_count": 13,
   "metadata": {
    "collapsed": false
   },
   "outputs": [
    {
     "name": "stdout",
     "output_type": "stream",
     "text": [
      "Accuracy on training set: 0.999661333333\n",
      "Accuracy on testing set_: 0.755232\n",
      "Classification Report:\n",
      "             precision    recall  f1-score   support\n",
      "\n",
      "          0       0.77      0.97      0.86    375005\n",
      "          1       0.55      0.12      0.20    124995\n",
      "\n",
      "avg / total       0.71      0.76      0.69    500000\n",
      "\n",
      "Confusion Matrix:\n",
      "[[362375  12630]\n",
      " [109754  15241]]\n",
      "5 cross validation\n",
      "[ 0.755385  0.754005  0.75461   0.75521   0.754105]\n",
      "Mean score: 0.755 (+/-0.000)\n"
     ]
    }
   ],
   "source": [
    "# RANDOM FOREST CLASSIFIER\n",
    "forest = RandomForestClassifier(n_estimators=50)\n",
    "\n",
    "perform_classification_analysis(forest)"
   ]
  },
  {
   "cell_type": "code",
   "execution_count": 18,
   "metadata": {
    "collapsed": false
   },
   "outputs": [
    {
     "name": "stdout",
     "output_type": "stream",
     "text": [
      "Accuracy on training set: 0.765200666667\n",
      "Accuracy on testing set_: 0.76339\n",
      "Classification Report:\n",
      "             precision    recall  f1-score   support\n",
      "\n",
      "          0       0.77      0.97      0.86    375005\n",
      "          1       0.60      0.16      0.25    124995\n",
      "\n",
      "avg / total       0.73      0.76      0.71    500000\n",
      "\n",
      "Confusion Matrix:\n",
      "[[362268  12737]\n",
      " [105568  19427]]\n",
      "5 cross validation\n",
      "[ 0.7642725  0.76297    0.763835   0.7631     0.763465 ]\n",
      "Mean score: 0.764 (+/-0.000)\n"
     ]
    }
   ],
   "source": [
    "# DECISION TREE CLASSIFIER\n",
    "dt = sklearn.tree.DecisionTreeClassifier(criterion='entropy', max_leaf_nodes=1000)\n",
    "\n",
    "perform_classification_analysis(dt)"
   ]
  },
  {
   "cell_type": "code",
   "execution_count": 15,
   "metadata": {
    "collapsed": false
   },
   "outputs": [
    {
     "name": "stdout",
     "output_type": "stream",
     "text": [
      "Accuracy on training set: 0.756902\n",
      "Accuracy on testing set_: 0.747704\n",
      "Classification Report:\n",
      "             precision    recall  f1-score   support\n",
      "\n",
      "          0       0.76      0.98      0.85    375005\n",
      "          1       0.47      0.06      0.11    124995\n",
      "\n",
      "avg / total       0.68      0.75      0.67    500000\n",
      "\n",
      "Confusion Matrix:\n",
      "[[366054   8951]\n",
      " [117197   7798]]\n",
      "5 cross validation\n",
      "[ 0.7479925  0.7466725  0.7470375  0.7469425  0.746235 ]\n",
      "Mean score: 0.747 (+/-0.000)\n"
     ]
    }
   ],
   "source": [
    "# K NEAREST NEIGHBORS CLASSIFIER\n",
    "knnclf = KNeighborsClassifier(n_neighbors=20, weights='uniform')\n",
    "\n",
    "perform_classification_analysis(knnclf)"
   ]
  },
  {
   "cell_type": "code",
   "execution_count": 16,
   "metadata": {
    "collapsed": false
   },
   "outputs": [
    {
     "name": "stdout",
     "output_type": "stream",
     "text": [
      "Accuracy on training set: 0.747794\n",
      "Accuracy on testing set_: 0.748254\n",
      "Classification Report:\n",
      "             precision    recall  f1-score   support\n",
      "\n",
      "          0       0.75      1.00      0.86    375005\n",
      "          1       0.26      0.00      0.01    124995\n",
      "\n",
      "avg / total       0.63      0.75      0.64    500000\n",
      "\n",
      "Confusion Matrix:\n",
      "[[373638   1367]\n",
      " [124506    489]]\n",
      "5 cross validation\n",
      "[ 0.7485275  0.747995   0.7478725  0.7486525  0.7471675]\n",
      "Mean score: 0.748 (+/-0.000)\n"
     ]
    }
   ],
   "source": [
    "# NAIVE BAYES CLASSIFIER\n",
    "bayes = GaussianNB()\n",
    "\n",
    "perform_classification_analysis(bayes)"
   ]
  },
  {
   "cell_type": "code",
   "execution_count": 20,
   "metadata": {
    "collapsed": false,
    "scrolled": true
   },
   "outputs": [
    {
     "name": "stdout",
     "output_type": "stream",
     "text": [
      "Variance score: 0.01\n",
      "Residual sum of squares: 0.19\n",
      "Mean Absolute Error: 0.37\n",
      "Mean Squared Error: 0.19\n",
      "Root Mean Squared Error: 0.43\n",
      "5 cross validation\n",
      "[ 0.0051262   0.00521547  0.0052033   0.00493357  0.00525286]\n",
      "Mean score: 0.005 (+/-0.000)\n"
     ]
    }
   ],
   "source": [
    "# LINEAR REGRESSION\n",
    "linreg = LinearRegression()\n",
    "\n",
    "perform_regression_analysis(linreg)"
   ]
  },
  {
   "cell_type": "code",
   "execution_count": 21,
   "metadata": {
    "collapsed": false
   },
   "outputs": [
    {
     "name": "stdout",
     "output_type": "stream",
     "text": [
      "Variance score: 0.00\n",
      "Residual sum of squares: 0.19\n",
      "Mean Absolute Error: 0.36\n",
      "Mean Squared Error: 0.19\n",
      "Root Mean Squared Error: 0.43\n",
      "5 cross validation\n",
      "[ 0.00340432  0.0023052   0.00173741  0.00164286  0.00162464]\n",
      "Mean score: 0.002 (+/-0.000)\n"
     ]
    }
   ],
   "source": [
    "# KNN REGRESSION\n",
    "knnreg = KNeighborsRegressor(n_neighbors=20, weights='uniform')\n",
    "\n",
    "perform_regression_analysis(knnreg)"
   ]
  },
  {
   "cell_type": "code",
   "execution_count": null,
   "metadata": {
    "collapsed": true
   },
   "outputs": [],
   "source": []
  }
 ],
 "metadata": {
  "anaconda-cloud": {},
  "kernelspec": {
   "display_name": "Python [conda root]",
   "language": "python",
   "name": "conda-root-py"
  },
  "language_info": {
   "codemirror_mode": {
    "name": "ipython",
    "version": 2
   },
   "file_extension": ".py",
   "mimetype": "text/x-python",
   "name": "python",
   "nbconvert_exporter": "python",
   "pygments_lexer": "ipython2",
   "version": "2.7.12"
  }
 },
 "nbformat": 4,
 "nbformat_minor": 0
}
