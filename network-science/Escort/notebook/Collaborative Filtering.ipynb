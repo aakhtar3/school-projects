{
 "cells": [
  {
   "cell_type": "code",
   "execution_count": 1,
   "metadata": {
    "collapsed": false
   },
   "outputs": [],
   "source": [
    "from math import sqrt\n",
    "from collections import defaultdict\n",
    "\n",
    "# Load data\n",
    "def load_data(path):\n",
    "    females = {}\n",
    "    females_list = defaultdict(list)\n",
    "    males = {}\n",
    "    count = 0\n",
    "    for line in open(path):\n",
    "        # Skip column headers\n",
    "        if not(count == 0):\n",
    "            (female, male, posting, grade, anal, oral, kiss) = line.split(\",\")\n",
    "            females[female] = female\n",
    "            females_list[female].append(male)\n",
    "            males.setdefault(male,{})\n",
    "            \n",
    "            # Define final raiting\n",
    "            fgrade = 0.0\n",
    "            score = 0.0\n",
    "            if grade == '-1':\n",
    "                fgrade = 1.0\n",
    "                if anal == '1':\n",
    "                    score += 0.5\n",
    "                elif anal == '-1':\n",
    "                    score -= 0.10\n",
    "                if oral == '1':\n",
    "                    score += 0.5\n",
    "                elif oral == '-1':\n",
    "                    score -= 0.10\n",
    "                if kiss == '1':\n",
    "                    score += 0.5\n",
    "                elif kiss == '-1':\n",
    "                    score -= 0.10\n",
    "            elif grade == '0':\n",
    "                fgrade = 4.0\n",
    "                if anal == '1':\n",
    "                    score += 0.75\n",
    "                elif anal == '-1':\n",
    "                    score -= 0.20\n",
    "                if oral == '1':\n",
    "                    score += 0.75 \n",
    "                elif oral == '-1':\n",
    "                    score -= 0.20\n",
    "                if kiss == '1':\n",
    "                    score += 0.75\n",
    "                elif kiss == '-1':\n",
    "                    score -= 0.20\n",
    "            elif grade == '1':\n",
    "                fgrade = 7.0\n",
    "                if anal == '1':\n",
    "                    score += 1.0\n",
    "                elif anal == '-1':\n",
    "                    score -= 0.20\n",
    "                if oral == '1':\n",
    "                    score += 1.0\n",
    "                elif oral == '-1':\n",
    "                    score -= 0.20\n",
    "                if kiss == '1':\n",
    "                    score += 1.0\n",
    "                elif kiss == '-1':\n",
    "                    score -= 0.20\n",
    "            males[male][females[female]] = float(float(fgrade) + float(score))\n",
    "        count += 1\n",
    "    print 'Number of Males shared accross all females', len(count_males(females_list))\n",
    "    return males\n",
    "\n",
    "# Get count shared clientele\n",
    "def count_males(fl):\n",
    "    ml = {}\n",
    "    for key in fl:\n",
    "        for m in fl[key]:\n",
    "            if m in ml:\n",
    "                ml[m] += 1\n",
    "            else:\n",
    "                ml[m] = 0\n",
    "                \n",
    "    scores = list()\n",
    "    for key in ml:\n",
    "        if ml[key] > 0:\n",
    "            scores.append(tuple((ml[key], key)))\n",
    "    scores.sort()\n",
    "    scores.reverse()\n",
    "    return scores\n",
    "\n",
    "#Returns a distance-base similarity score for person1 and person2\n",
    "def sim_distance(prefs, person1, person2):\n",
    "    #Get the list of shared_items\n",
    "    si = {}\n",
    "    for item in prefs[person1]:\n",
    "        if item in prefs[person2]:           \n",
    "            si[item] = 1\n",
    "\n",
    "    #if they have no rating in common, return 0\n",
    "    if len(si) == 0: \n",
    "        return 0\n",
    "\n",
    "    #Add up the squares of all differences\n",
    "    sum_of_squares = sum([pow(prefs[person1][item]-prefs[person2][item],2) for item in prefs[person1] if item in prefs[person2]])\n",
    "    return 1 / (1 + sum_of_squares)\n",
    "\n",
    "#Returns the Pearson correlation coefficient for p1 and p2 \n",
    "def sim_pearson(prefs,p1,p2):\n",
    "    #Get the list of mutually rated items\n",
    "    si = {}\n",
    "    for item in prefs[p1]:\n",
    "        if item in prefs[p2]: \n",
    "            si[item] = 1\n",
    "\n",
    "    #if they are no rating in common, return 0\n",
    "    if len(si) == 0:\n",
    "        return 0\n",
    "\n",
    "    #sum calculations\n",
    "    n = len(si)\n",
    "\n",
    "    #sum of all preferences\n",
    "    sum1 = sum([prefs[p1][it] for it in si])\n",
    "    sum2 = sum([prefs[p2][it] for it in si])\n",
    "\n",
    "    #Sum of the squares\n",
    "    sum1Sq = sum([pow(prefs[p1][it],2) for it in si])\n",
    "    sum2Sq = sum([pow(prefs[p2][it],2) for it in si])\n",
    "\n",
    "    #Sum of the products\n",
    "    pSum = sum([prefs[p1][it] * prefs[p2][it] for it in si])\n",
    "\n",
    "    #Calculate r (Pearson score)\n",
    "    num = pSum - (sum1 * sum2/n)\n",
    "    den = sqrt((sum1Sq - pow(sum1,2)/n) * (sum2Sq - pow(sum2,2)/n))\n",
    "    if den == 0:\n",
    "        return 0\n",
    "\n",
    "    r = num/den\n",
    "\n",
    "    return r\n",
    "\n",
    "#Returns the best matches for person from the prefs dictionary\n",
    "#Number of the results and similiraty function are optional params.\n",
    "def topMatches(prefs,person,n=5,similarity=sim_pearson):\n",
    "    scores = [(similarity(prefs,person,other),other)\n",
    "                for other in prefs if other != person]\n",
    "    scores.sort()\n",
    "    scores.reverse()\n",
    "    return scores[0:n]\n",
    "\n",
    "#Gets recommendations for a person by using a weighted average\n",
    "#of every other user's rankings\n",
    "def getRecommendations(prefs,person,similarity=sim_pearson):\n",
    "    totals = {}\n",
    "    simSums = {}\n",
    "\n",
    "    for other in prefs:\n",
    "        #don't compare me to myself\n",
    "        if other == person:\n",
    "            continue\n",
    "        sim = similarity(prefs,person,other)\n",
    "\n",
    "        #ignore scores of zero or lower\n",
    "        if sim <= 0: \n",
    "            continue\n",
    "        for item in prefs[other]:\n",
    "            #only score books i haven't seen yet\n",
    "            if item not in prefs[person] or prefs[person][item] == 0:\n",
    "                #Similarity * score\n",
    "                totals.setdefault(item,0)\n",
    "                totals[item] += prefs[other][item] * sim\n",
    "                #Sum of similarities\n",
    "                simSums.setdefault(item,0)\n",
    "                simSums[item] += sim\n",
    "\n",
    "    #Create the normalized list\n",
    "    rankings = [(total/simSums[item],item) for item,total in totals.items()]\n",
    "\n",
    "    #Return the sorted list\n",
    "    rankings.sort()\n",
    "    rankings.reverse()\n",
    "    return rankings\n",
    "\n",
    "#Function to transform Person, item - > Item, person\n",
    "def transformPrefs(prefs):\n",
    "    results = {}\n",
    "    for person in prefs:\n",
    "        for item in prefs[person]:\n",
    "            results.setdefault(item,{})\n",
    "\n",
    "            #Flip item and person\n",
    "            results[item][person] = prefs[person][item]\n",
    "    return results\n",
    "\n",
    "# Get top N simliarty Nodes\n",
    "def get_top_sim(data, n1, n, similarity=sim_pearson):\n",
    "    scores = list()\n",
    "    for key in data:\n",
    "        if not(n1 == key):\n",
    "            a = similarity(data, n1, key)\n",
    "            if a > 0:\n",
    "                scores.append(tuple((a, key)))        \n",
    "    scores.sort()\n",
    "    scores.reverse()\n",
    "    return scores[0:n]"
   ]
  },
  {
   "cell_type": "code",
   "execution_count": 2,
   "metadata": {
    "collapsed": false
   },
   "outputs": [
    {
     "name": "stdout",
     "output_type": "stream",
     "text": [
      "Number of Males shared accross all females 5165\n"
     ]
    }
   ],
   "source": [
    "buyers = load_data('../data/filtered.csv')"
   ]
  },
  {
   "cell_type": "markdown",
   "metadata": {},
   "source": [
    "# Buyers"
   ]
  },
  {
   "cell_type": "code",
   "execution_count": 394,
   "metadata": {
    "collapsed": false
   },
   "outputs": [
    {
     "data": {
      "text/plain": [
       "[(1.000000000000405, '4722'),\n",
       " (1.0000000000002518, '8425'),\n",
       " (1.0000000000002518, '3430'),\n",
       " (1.0000000000001381, '9993'),\n",
       " (1.0000000000001381, '9840'),\n",
       " (1.0000000000001381, '3652'),\n",
       " (1.0000000000001381, '14858'),\n",
       " (1.0000000000001381, '14780'),\n",
       " (1.0000000000001381, '12103'),\n",
       " (1.0000000000001381, '10583'),\n",
       " (1.0000000000000646, '2595'),\n",
       " (1.000000000000056, '12229'),\n",
       " (1.0000000000000426, '7219'),\n",
       " (1.0000000000000426, '3654'),\n",
       " (1.0000000000000142, '6790'),\n",
       " (1.0000000000000118, '6715'),\n",
       " (1.0000000000000109, '4032'),\n",
       " (1.000000000000005, '6023'),\n",
       " (1.0000000000000042, '11216'),\n",
       " (1.000000000000004, '7654')]"
      ]
     },
     "execution_count": 394,
     "metadata": {},
     "output_type": "execute_result"
    }
   ],
   "source": [
    "get_top_sim(buyers, '370', 20)"
   ]
  },
  {
   "cell_type": "code",
   "execution_count": 395,
   "metadata": {
    "collapsed": false
   },
   "outputs": [
    {
     "data": {
      "text/plain": [
       "[(1.0, '9864'),\n",
       " (1.0, '9843'),\n",
       " (1.0, '9772'),\n",
       " (1.0, '9741'),\n",
       " (1.0, '973'),\n",
       " (1.0, '97'),\n",
       " (1.0, '965'),\n",
       " (1.0, '9636'),\n",
       " (1.0, '9607'),\n",
       " (1.0, '9594'),\n",
       " (1.0, '9586'),\n",
       " (1.0, '9585'),\n",
       " (1.0, '9584'),\n",
       " (1.0, '9581'),\n",
       " (1.0, '958'),\n",
       " (1.0, '9569'),\n",
       " (1.0, '9553'),\n",
       " (1.0, '951'),\n",
       " (1.0, '9454'),\n",
       " (1.0, '9395')]"
      ]
     },
     "execution_count": 395,
     "metadata": {},
     "output_type": "execute_result"
    }
   ],
   "source": [
    "get_top_sim(buyers, '370', 20, similarity=sim_distance)"
   ]
  },
  {
   "cell_type": "code",
   "execution_count": 376,
   "metadata": {
    "collapsed": false
   },
   "outputs": [
    {
     "data": {
      "text/plain": [
       "[(1.000000000000405, '4722'),\n",
       " (1.0000000000002518, '8425'),\n",
       " (1.0000000000002518, '3430'),\n",
       " (1.0000000000001381, '9993'),\n",
       " (1.0000000000001381, '9840'),\n",
       " (1.0000000000001381, '3652'),\n",
       " (1.0000000000001381, '14858'),\n",
       " (1.0000000000001381, '14780'),\n",
       " (1.0000000000001381, '12103'),\n",
       " (1.0000000000001381, '10583')]"
      ]
     },
     "execution_count": 376,
     "metadata": {},
     "output_type": "execute_result"
    }
   ],
   "source": [
    "topMatches(buyers, '370', 10)"
   ]
  },
  {
   "cell_type": "code",
   "execution_count": 377,
   "metadata": {
    "collapsed": false
   },
   "outputs": [
    {
     "data": {
      "text/plain": [
       "[(1.0, '9864'),\n",
       " (1.0, '9843'),\n",
       " (1.0, '9772'),\n",
       " (1.0, '9741'),\n",
       " (1.0, '973'),\n",
       " (1.0, '97'),\n",
       " (1.0, '965'),\n",
       " (1.0, '9636'),\n",
       " (1.0, '9607'),\n",
       " (1.0, '9594')]"
      ]
     },
     "execution_count": 377,
     "metadata": {},
     "output_type": "execute_result"
    }
   ],
   "source": [
    "topMatches(buyers, '370', 10, similarity=sim_distance)"
   ]
  },
  {
   "cell_type": "code",
   "execution_count": 378,
   "metadata": {
    "collapsed": false
   },
   "outputs": [
    {
     "data": {
      "text/plain": [
       "[(9.000000000000002, '9291'),\n",
       " (9.000000000000002, '6190'),\n",
       " (9.000000000000002, '5224'),\n",
       " (9.000000000000002, '4817')]"
      ]
     },
     "execution_count": 378,
     "metadata": {},
     "output_type": "execute_result"
    }
   ],
   "source": [
    "getRecommendations(buyers,'370')[0:4]"
   ]
  },
  {
   "cell_type": "code",
   "execution_count": 379,
   "metadata": {
    "collapsed": false
   },
   "outputs": [
    {
     "data": {
      "text/plain": [
       "[(9.000000000000002, '9064'),\n",
       " (9.000000000000002, '8617'),\n",
       " (9.000000000000002, '8132'),\n",
       " (9.000000000000002, '5782')]"
      ]
     },
     "execution_count": 379,
     "metadata": {},
     "output_type": "execute_result"
    }
   ],
   "source": [
    "getRecommendations(buyers,'370', similarity=sim_distance)[0:4] "
   ]
  },
  {
   "cell_type": "markdown",
   "metadata": {},
   "source": [
    "# Sellers"
   ]
  },
  {
   "cell_type": "code",
   "execution_count": 380,
   "metadata": {
    "collapsed": false
   },
   "outputs": [],
   "source": [
    "sellers = transformPrefs(buyers)"
   ]
  },
  {
   "cell_type": "code",
   "execution_count": 396,
   "metadata": {
    "collapsed": false
   },
   "outputs": [
    {
     "data": {
      "text/plain": [
       "[(1.00000000000002, '561'),\n",
       " (1.000000000000016, '5630'),\n",
       " (1.0000000000000089, '7222'),\n",
       " (1.000000000000007, '316'),\n",
       " (1.000000000000007, '1048'),\n",
       " (1.0000000000000053, '207'),\n",
       " (1.0000000000000038, '3122'),\n",
       " (1.0000000000000007, '31'),\n",
       " (1.0000000000000007, '12447'),\n",
       " (1.0000000000000002, '8730'),\n",
       " (1.0, '9280'),\n",
       " (1.0, '7952'),\n",
       " (1.0, '6943'),\n",
       " (1.0, '3934'),\n",
       " (1.0, '357'),\n",
       " (1.0, '3262'),\n",
       " (1.0, '317'),\n",
       " (1.0, '244'),\n",
       " (1.0, '15735'),\n",
       " (1.0, '13993')]"
      ]
     },
     "execution_count": 396,
     "metadata": {},
     "output_type": "execute_result"
    }
   ],
   "source": [
    "get_top_sim(sellers, '18', 20)"
   ]
  },
  {
   "cell_type": "code",
   "execution_count": 397,
   "metadata": {
    "collapsed": false
   },
   "outputs": [
    {
     "data": {
      "text/plain": [
       "[(1.0, '9866'),\n",
       " (1.0, '9673'),\n",
       " (1.0, '9538'),\n",
       " (1.0, '9537'),\n",
       " (1.0, '9386'),\n",
       " (1.0, '9239'),\n",
       " (1.0, '9225'),\n",
       " (1.0, '9159'),\n",
       " (1.0, '9135'),\n",
       " (1.0, '9042'),\n",
       " (1.0, '8915'),\n",
       " (1.0, '8906'),\n",
       " (1.0, '8818'),\n",
       " (1.0, '8663'),\n",
       " (1.0, '8622'),\n",
       " (1.0, '8584'),\n",
       " (1.0, '8570'),\n",
       " (1.0, '849'),\n",
       " (1.0, '8335'),\n",
       " (1.0, '8227')]"
      ]
     },
     "execution_count": 397,
     "metadata": {},
     "output_type": "execute_result"
    }
   ],
   "source": [
    "get_top_sim(sellers, '18', 20, similarity=sim_distance)"
   ]
  },
  {
   "cell_type": "code",
   "execution_count": 383,
   "metadata": {
    "collapsed": false
   },
   "outputs": [
    {
     "data": {
      "text/plain": [
       "[(1.00000000000002, '561'),\n",
       " (1.000000000000016, '5630'),\n",
       " (1.0000000000000089, '7222'),\n",
       " (1.000000000000007, '316'),\n",
       " (1.000000000000007, '1048')]"
      ]
     },
     "execution_count": 383,
     "metadata": {},
     "output_type": "execute_result"
    }
   ],
   "source": [
    "topMatches(sellers,'18')"
   ]
  },
  {
   "cell_type": "code",
   "execution_count": 384,
   "metadata": {
    "collapsed": false
   },
   "outputs": [
    {
     "data": {
      "text/plain": [
       "[(1.0, '9866'), (1.0, '9673'), (1.0, '9538'), (1.0, '9537'), (1.0, '9386')]"
      ]
     },
     "execution_count": 384,
     "metadata": {},
     "output_type": "execute_result"
    }
   ],
   "source": [
    "topMatches(sellers,'18', similarity=sim_distance)"
   ]
  },
  {
   "cell_type": "code",
   "execution_count": 385,
   "metadata": {
    "collapsed": false
   },
   "outputs": [
    {
     "data": {
      "text/plain": [
       "[(9.000000000000002, '9823'),\n",
       " (9.000000000000002, '9136'),\n",
       " (9.000000000000002, '9068'),\n",
       " (9.000000000000002, '7261'),\n",
       " (9.000000000000002, '4387')]"
      ]
     },
     "execution_count": 385,
     "metadata": {},
     "output_type": "execute_result"
    }
   ],
   "source": [
    "getRecommendations(sellers,'18')[0:5]"
   ]
  },
  {
   "cell_type": "code",
   "execution_count": 386,
   "metadata": {
    "collapsed": false
   },
   "outputs": [
    {
     "data": {
      "text/plain": [
       "[(9.000000000000004, '12363'),\n",
       " (9.000000000000002, '9675'),\n",
       " (9.000000000000002, '9584'),\n",
       " (9.000000000000002, '8527'),\n",
       " (9.000000000000002, '8492')]"
      ]
     },
     "execution_count": 386,
     "metadata": {},
     "output_type": "execute_result"
    }
   ],
   "source": [
    "getRecommendations(sellers,'18', similarity=sim_distance)[0:5]"
   ]
  },
  {
   "cell_type": "code",
   "execution_count": null,
   "metadata": {
    "collapsed": true
   },
   "outputs": [],
   "source": []
  }
 ],
 "metadata": {
  "kernelspec": {
   "display_name": "Python 2",
   "language": "python",
   "name": "python2"
  },
  "language_info": {
   "codemirror_mode": {
    "name": "ipython",
    "version": 2
   },
   "file_extension": ".py",
   "mimetype": "text/x-python",
   "name": "python",
   "nbconvert_exporter": "python",
   "pygments_lexer": "ipython2",
   "version": "2.7.13"
  }
 },
 "nbformat": 4,
 "nbformat_minor": 2
}
